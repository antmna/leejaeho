{
 "cells": [
  {
   "cell_type": "code",
   "execution_count": 1,
   "metadata": {
    "collapsed": true
   },
   "outputs": [],
   "source": [
    "import numpy as np\n",
    "import tensorflow as tf\n",
    "from sklearn import preprocessing as p\n",
    "import pandas as pd"
   ]
  },
  {
   "cell_type": "code",
   "execution_count": 12,
   "metadata": {
    "collapsed": false
   },
   "outputs": [
    {
     "data": {
      "text/plain": [
       "class          object\n",
       "age            object\n",
       "menopause      object\n",
       "tumor-size     object\n",
       "inv-nodes      object\n",
       "node-caps      object\n",
       "deg-malig       int64\n",
       "breast         object\n",
       "breast-quad    object\n",
       "irradiat       object\n",
       "dtype: object"
      ]
     },
     "execution_count": 12,
     "metadata": {},
     "output_type": "execute_result"
    }
   ],
   "source": [
    "data_source = \"https://archive.ics.uci.edu/ml/machine-learning-databases/restricted/breast-cancer/breast-cancer.data\"\n",
    "\n",
    "names = [\"class\", \"age\", \"menopause\", \"tumor-size\", \"inv-nodes\", \"node-caps\", \"deg-malig\", \"breast\", \"breast-quad\", \"irradiat\"]\n",
    "\n",
    "df = pd.read_csv(data_source, names=names)\n",
    "df[:5]\n",
    "df.dtypes"
   ]
  },
  {
   "cell_type": "code",
   "execution_count": 13,
   "metadata": {
    "collapsed": false
   },
   "outputs": [
    {
     "data": {
      "text/plain": [
       "class          category\n",
       "age            category\n",
       "menopause      category\n",
       "tumor-size     category\n",
       "inv-nodes      category\n",
       "node-caps      category\n",
       "deg-malig         int64\n",
       "breast         category\n",
       "breast-quad    category\n",
       "irradiat       category\n",
       "dtype: object"
      ]
     },
     "execution_count": 13,
     "metadata": {},
     "output_type": "execute_result"
    }
   ],
   "source": [
    "for column in range(0, 10):\n",
    "    if column not in [6]:\n",
    "        df[names[column]] = df[names[column]].astype(\"category\")\n",
    "\n",
    "df.dtypes"
   ]
  },
  {
   "cell_type": "code",
   "execution_count": 14,
   "metadata": {
    "collapsed": false
   },
   "outputs": [
    {
     "data": {
      "text/plain": [
       "array([[ 1.,  3.,  0., ...,  0.,  1.,  0.],\n",
       "       [ 1.,  2.,  0., ...,  1.,  1.,  0.],\n",
       "       [ 1.,  2.,  0., ...,  0.,  1.,  0.],\n",
       "       ..., \n",
       "       [ 1.,  1.,  0., ...,  0.,  1.,  0.],\n",
       "       [ 1.,  3.,  0., ...,  0.,  1.,  0.],\n",
       "       [ 1.,  3.,  0., ...,  0.,  1.,  0.]])"
      ]
     },
     "execution_count": 14,
     "metadata": {},
     "output_type": "execute_result"
    }
   ],
   "source": [
    "y_data = df.pop(\"class\")\n",
    "y_data = pd.get_dummies(y_data).as_matrix()\n",
    "\n",
    "x_data = df\n",
    "x_data.insert(0, \"bias\", 1)\n",
    "x_data = pd.get_dummies(x_data).as_matrix()\n",
    "\n",
    "x_data"
   ]
  },
  {
   "cell_type": "code",
   "execution_count": 15,
   "metadata": {
    "collapsed": true
   },
   "outputs": [],
   "source": [
    "x_data = p.MinMaxScaler().fit_transform(x_data)"
   ]
  },
  {
   "cell_type": "code",
   "execution_count": 16,
   "metadata": {
    "collapsed": true
   },
   "outputs": [],
   "source": [
    "training_idx = np.random.randint(y_data.shape[0], size=int(y_data.shape[0] * 0.8))\n",
    "test_idx = np.random.randint(y_data.shape[0], size=int(y_data.shape[0] * 0.2))\n",
    "\n",
    "x_training, x_test = x_data[training_idx], x_data[test_idx]\n",
    "y_training, y_test = y_data[training_idx], y_data[test_idx]"
   ]
  },
  {
   "cell_type": "code",
   "execution_count": 17,
   "metadata": {
    "collapsed": false
   },
   "outputs": [
    {
     "data": {
      "text/plain": [
       "(228, 2)"
      ]
     },
     "execution_count": 17,
     "metadata": {},
     "output_type": "execute_result"
    }
   ],
   "source": [
    "y_training.shape"
   ]
  },
  {
   "cell_type": "code",
   "execution_count": 18,
   "metadata": {
    "collapsed": true
   },
   "outputs": [],
   "source": [
    "W = tf.Variable(tf.zeros([len(x_data[0]), len(y_data[0])]))\n",
    "                \n",
    "X = tf.placeholder(\"float\", [None, len(x_data[0])])\n",
    "Y = tf.placeholder(\"float\", [None, len(y_data[0])])\n",
    "\n",
    "\n",
    "hypothesis = tf.nn.softmax(tf.matmul(X, W))\n",
    "\n",
    "cost = tf.reduce_mean(-tf.reduce_sum(Y * tf.log(hypothesis), reduction_indices=1))\n",
    "\n",
    "a = tf.Variable(0.001)\n",
    "optimizer = tf.train.GradientDescentOptimizer(a)\n",
    "train = optimizer.minimize(cost)\n",
    "\n",
    "init = tf.initialize_all_variables()\n",
    "\n",
    "sess = tf.Session()\n",
    "sess.run(init)"
   ]
  },
  {
   "cell_type": "code",
   "execution_count": 19,
   "metadata": {
    "collapsed": false
   },
   "outputs": [
    {
     "name": "stdout",
     "output_type": "stream",
     "text": [
      "0 0.69275\n",
      "100000 0.448247\n",
      "200000 0.442815\n",
      "300000 0.440633\n",
      "400000 0.439319\n",
      "500000 0.438405\n"
     ]
    }
   ],
   "source": [
    "for step in range(500001):\n",
    "    sess.run(train, feed_dict={X:x_training, Y:y_training})\n",
    "    if step % 100000 == 0:\n",
    "        print (step, sess.run(cost, feed_dict={X:x_training, Y:y_training}))"
   ]
  },
  {
   "cell_type": "code",
   "execution_count": 22,
   "metadata": {
    "collapsed": false
   },
   "outputs": [
    {
     "data": {
      "text/plain": [
       "0.78947368421052633"
      ]
     },
     "execution_count": 22,
     "metadata": {},
     "output_type": "execute_result"
    }
   ],
   "source": [
    "h_values = sess.run(hypothesis,feed_dict={X:x_test})\n",
    "result = [np.argmax(predict) == np.argmax(original_value) for predict, original_value in zip(h_values, y_test)]\n",
    "\n",
    "sum(result)/len(y_test)"
   ]
  }
 ],
 "metadata": {
  "kernelspec": {
   "display_name": "Python 3",
   "language": "python",
   "name": "python3"
  },
  "language_info": {
   "codemirror_mode": {
    "name": "ipython",
    "version": 3
   },
   "file_extension": ".py",
   "mimetype": "text/x-python",
   "name": "python",
   "nbconvert_exporter": "python",
   "pygments_lexer": "ipython3",
   "version": "3.4.5"
  }
 },
 "nbformat": 4,
 "nbformat_minor": 0
}
