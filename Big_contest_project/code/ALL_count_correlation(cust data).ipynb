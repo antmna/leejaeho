{
 "cells": [
  {
   "cell_type": "code",
   "execution_count": 795,
   "metadata": {
    "collapsed": false
   },
   "outputs": [],
   "source": [
    "import matplotlib as plt\n",
    "import pandas as pd\n",
    "import numpy as np\n",
    "from math import sqrt\n",
    "from statistics import mean\n",
    "from numpy import array\n",
    "import numpy as np"
   ]
  },
  {
   "cell_type": "code",
   "execution_count": 798,
   "metadata": {
    "collapsed": false,
    "scrolled": true
   },
   "outputs": [],
   "source": [
    "df = pd.read_csv('../data_utf_8/BGCON_CUST_DATA_utf_8_extract.txt', index_col=0)"
   ]
  },
  {
   "cell_type": "code",
   "execution_count": 689,
   "metadata": {
    "collapsed": false
   },
   "outputs": [],
   "source": [
    "#df = df.dropna()\n",
    "\n",
    "df['FP_CAREER'] = df['FP_CAREER'].map(lambda x: 0 if x == 'N' else 1)\n",
    "df['SIU_CUST_YN'] = df['SIU_CUST_YN'].map(lambda x: 0 if x == 'N' else 1)\n",
    "df['WEDD_YN'] = df['WEDD_YN'].map(lambda x: 0 if x == 'N' else 1)\n",
    "\n",
    "\n",
    "df_DIVIDED_SET = df[\"DIVIDED_SET\"] \n",
    "df_SEX = df[\"SEX\"]\n",
    "df_AGE = df[\"AGE\"]\n",
    "df_RESI_COST = df[\"RESI_COST\"]\n",
    "df_RESI_TYPE_CODE = df[\"RESI_TYPE_CODE\"]\n",
    "df_FP_CAREER = df[\"FP_CAREER\"]\n",
    "df_CUST_RGST = df[\"CUST_RGST\"]\n",
    "df_CTPR = df[\"CTPR\"]\n",
    "df_OCCP_GRP_1 = df[\"OCCP_GRP_1\"]\n",
    "df_OCCP_GRP_2 = df[\"OCCP_GRP_2\"]\n",
    "df_TOTALPREM = df[\"TOTALPREM\"]\n",
    "df_MINCRDT = df[\"MINCRDT\"]\n",
    "df_MAXCRDT = df[\"MAXCRDT\"]\n",
    "df_WEDD_YN = df[\"WEDD_YN\"]\n",
    "df_MATE_OCCP_GRP_1 = df[\"MATE_OCCP_GRP_1\"]\n",
    "df_MATE_OCCP_GRP_2 = df[\"MATE_OCCP_GRP_2\"]\n",
    "df_CHLD_CNT = df[\"CHLD_CNT\"]\n",
    "df_LTBN_CHLD_AGE = df[\"LTBN_CHLD_AGE\"]\n",
    "df_MAX_PAYM_YM = df[\"MAX_PAYM_YM\"]\n",
    "df_MAX_PRM = df[\"MAX_PRM\"]\n",
    "df_CUST_INCM = df[\"CUST_INCM\"]\n",
    "df_RCBASE_HSHD_INCM = df[\"RCBASE_HSHD_INCM\"]\n",
    "df_JPBASE_HSHD_INCM = df[\"JPBASE_HSHD_INCM\"]\n",
    "\n",
    "\n",
    "df_SIU_CUST_YN = df[\"SIU_CUST_YN\"]\n"
   ]
  },
  {
   "cell_type": "code",
   "execution_count": 690,
   "metadata": {
    "collapsed": false,
    "scrolled": true
   },
   "outputs": [],
   "source": [
    "#for column in range(0, 10):\n",
    "#    if column not in [6]:\n",
    "#        df[names[column]] = df[names[column]].astype(\"category\")"
   ]
  },
  {
   "cell_type": "code",
   "execution_count": 691,
   "metadata": {
    "collapsed": false
   },
   "outputs": [],
   "source": [
    "df['DIVIDED_SET'].fillna((df['DIVIDED_SET'].mean()), inplace=True)\n",
    "df['SEX'].fillna((df['SEX'].mean()), inplace=True)\n",
    "df['AGE'].fillna((df['AGE'].mean()), inplace=True)\n",
    "df['RESI_COST'].fillna((df['RESI_COST'].mean()), inplace=True)\n",
    "df['RESI_TYPE_CODE'].fillna((df['RESI_TYPE_CODE'].mean()), inplace=True)\n",
    "df['FP_CAREER'].fillna((df['FP_CAREER'].mean()), inplace=True)\n",
    "df['CUST_RGST'].fillna((df['CUST_RGST'].mean()), inplace=True)\n",
    "df['TOTALPREM'].fillna((df['TOTALPREM'].mean()), inplace=True)\n",
    "df['MINCRDT'].fillna((df['MINCRDT'].mean()), inplace=True)\n",
    "df['MAXCRDT'].fillna((df['MAXCRDT'].mean()), inplace=True)\n",
    "df['CHLD_CNT'].fillna((df['CHLD_CNT'].mean()), inplace=True)\n",
    "df['LTBN_CHLD_AGE'].fillna((df['LTBN_CHLD_AGE'].mean()), inplace=True)\n",
    "df['MAX_PAYM_YM'].fillna((df['MAX_PAYM_YM'].mean()), inplace=True)\n",
    "df['MAX_PRM'].fillna((df['MAX_PRM'].mean()), inplace=True)\n",
    "df['CUST_INCM'].fillna((df['CUST_INCM'].mean()), inplace=True)\n",
    "df['RCBASE_HSHD_INCM'].fillna((df['RCBASE_HSHD_INCM'].mean()), inplace=True)\n",
    "df['JPBASE_HSHD_INCM'].fillna((df['JPBASE_HSHD_INCM'].mean()), inplace=True)"
   ]
  },
  {
   "cell_type": "code",
   "execution_count": 692,
   "metadata": {
    "collapsed": true
   },
   "outputs": [],
   "source": [
    "# df['DIVIDED_SET']= df['DIVIDED_SET'].fillna((df['DIVIDED_SET'].mean()), inplace=True)\n",
    "# df['SEX']= df['SEX'].fillna((df['SEX'].mean()), inplace=True)\n",
    "# df['AGE']= df['AGE'].fillna((df['AGE'].mean()), inplace=True)\n",
    "# df['RESI_COST']= df['RESI_COST'].fillna((df['RESI_COST'].mean()), inplace=True)\n",
    "# df['RESI_TYPE_CODE']= df['RESI_TYPE_CODE'].fillna((df['RESI_TYPE_CODE'].mean()), inplace=True)\n",
    "# df['FP_CAREER']= df['FP_CAREER'].fillna((df['FP_CAREER'].mean()), inplace=True)\n",
    "# df['CUST_RGST']= df['CUST_RGST'].fillna((df['CUST_RGST'].mean()), inplace=True)\n",
    "# df['TOTALPREM']= df['TOTALPREM'].fillna((df['TOTALPREM'].mean()), inplace=True)\n",
    "# df['MINCRDT']= df['MINCRDT'].fillna((df['MINCRDT'].mean()), inplace=True)\n",
    "# df['MAXCRDT']= df['MAXCRDT'].fillna((df['MAXCRDT'].mean()), inplace=True)\n",
    "# df['CHLD_CNT']= df['CHLD_CNT'].fillna((df['CHLD_CNT'].mean()), inplace=True)\n",
    "# df['LTBN_CHLD_AGE']= df['LTBN_CHLD_AGE'].fillna((df['LTBN_CHLD_AGE'].mean()), inplace=True)\n",
    "# df['MAX_PAYM_YM']= df['MAX_PAYM_YM'].fillna((df['MAX_PAYM_YM'].mean()), inplace=True)\n",
    "# df['MAX_PRM']= df['MAX_PRM'].fillna((df['MAX_PRM'].mean()), inplace=True)\n",
    "# df['CUST_INCM']= df['CUST_INCM'].fillna((df['CUST_INCM'].mean()), inplace=True)\n",
    "# df['RCBASE_HSHD_INCM']= df['RCBASE_HSHD_INCM'].fillna((df['RCBASE_HSHD_INCM'].mean()), inplace=True)\n",
    "# df['JPBASE_HSHD_INCM']= df['JPBASE_HSHD_INCM'].fillna((df['JPBASE_HSHD_INCM'].mean()), inplace=True)"
   ]
  },
  {
   "cell_type": "code",
   "execution_count": 693,
   "metadata": {
    "collapsed": true
   },
   "outputs": [],
   "source": [
    "def variance(x):\n",
    "    n = len(x)\n",
    "    deviations = de_mean(x)\n",
    "    return sum_of_squares(deviations) / (n - 1)\n",
    "\n",
    "def standard_deviation(x):\n",
    "    return math.sqrt(variance(x))\n",
    "\n",
    "def de_mean(x):\n",
    "    x_bar = mean(x)\n",
    "    return [x_i - x_bar for x_i in x]\n",
    "\n",
    "def sum_of_squares(v):\n",
    "    return dot(v, v)"
   ]
  },
  {
   "cell_type": "code",
   "execution_count": 694,
   "metadata": {
    "collapsed": false
   },
   "outputs": [],
   "source": [
    "def correlation(x, y):\n",
    "    stdev_x = standard_deviation(x)\n",
    "    stdev_y = standard_deviation(y)\n",
    "    if stdev_x > 0 and stdev_y > 0:\n",
    "        return covariance(x, y) / stdev_x / stdev_y\n",
    "    else:\n",
    "        return 0 \n",
    "\n",
    "    #4가지 선택\n",
    "\n",
    "x_data = df_SEX\n",
    "#x_data = df_AGE\n",
    "#x_data = df_DIVIDED_SET\n",
    "#x_data = df_RESI_COST\n",
    "# x_data = df_JPBASE_HSHD_INCM\n",
    "y_data = df['SIU_CUST_YN']\n",
    "#correlation(x_data, y_data)직"
   ]
  },
  {
   "cell_type": "code",
   "execution_count": 695,
   "metadata": {
    "collapsed": false
   },
   "outputs": [],
   "source": [
    "#names = [\"df_DIVIDED_SET\", \"df_SEX\", \"df_AGE\", \"df_RESI_COST\", \"df_RESI_TYPE_CODE\", \"df_FP_CAREER\", \"df_CUST_RGST\", \"df_CTPR\", \"df_OCCP_GRP_1\", \"df_OCCP_GRP_2\", \"df_TOTALPREM\", \"df_MINCRDT\", \"df_MAXCRDT\", \"df_WEDD_YN\", \"df_MATE_OCCP_GRP_1\", \"df_MATE_OCCP_GRP_2\", \"df_CHLD_CNT\", \"df_LTBN_CHLD_AGE\", \"df_MAX_PAYM_YM\", \"df_MAX_PRM\", \"df_CUST_INCM\", \"df_RCBASE_HSHD_INCM\", \"df_JPBASE_HSHD_INCM\"]\n",
    "#df[:5]\n",
    "#df.dtypes"
   ]
  },
  {
   "cell_type": "code",
   "execution_count": 696,
   "metadata": {
    "collapsed": false,
    "scrolled": true
   },
   "outputs": [
    {
     "data": {
      "text/plain": [
       "array([[ 1.        ,  0.04650657],\n",
       "       [ 0.04650657,  1.        ]])"
      ]
     },
     "execution_count": 696,
     "metadata": {},
     "output_type": "execute_result"
    }
   ],
   "source": [
    "np.corrcoef(x_data, y_data)"
   ]
  },
  {
   "cell_type": "code",
   "execution_count": 697,
   "metadata": {
    "collapsed": true
   },
   "outputs": [],
   "source": [
    "df['AGE'] = df['AGE'].map(lambda x:0 if x < 11 else x)"
   ]
  },
  {
   "cell_type": "code",
   "execution_count": 698,
   "metadata": {
    "collapsed": true
   },
   "outputs": [],
   "source": [
    "df['AGE'] = df['AGE'].map(lambda x:10 if x >10 and x<21 else x)"
   ]
  },
  {
   "cell_type": "code",
   "execution_count": 699,
   "metadata": {
    "collapsed": true
   },
   "outputs": [],
   "source": [
    "df['AGE'] = df['AGE'].map(lambda x:20 if x >20 and x<31 else x)"
   ]
  },
  {
   "cell_type": "code",
   "execution_count": 700,
   "metadata": {
    "collapsed": true
   },
   "outputs": [],
   "source": [
    "df['AGE'] = df['AGE'].map(lambda x:30 if x >30 and x<41 else x)"
   ]
  },
  {
   "cell_type": "code",
   "execution_count": 701,
   "metadata": {
    "collapsed": true
   },
   "outputs": [],
   "source": [
    "df['AGE'] = df['AGE'].map(lambda x:40 if x >40 and x<51 else x)"
   ]
  },
  {
   "cell_type": "code",
   "execution_count": 702,
   "metadata": {
    "collapsed": true
   },
   "outputs": [],
   "source": [
    "df['AGE'] = df['AGE'].map(lambda x:50 if x >50 and x<61 else x)"
   ]
  },
  {
   "cell_type": "code",
   "execution_count": 703,
   "metadata": {
    "collapsed": true
   },
   "outputs": [],
   "source": [
    "df['AGE'] = df['AGE'].map(lambda x:60 if x >60 and x<71 else x)"
   ]
  },
  {
   "cell_type": "code",
   "execution_count": 704,
   "metadata": {
    "collapsed": true
   },
   "outputs": [],
   "source": [
    "df['AGE'] = df['AGE'].map(lambda x:70 if x >70 and x<81 else x)"
   ]
  },
  {
   "cell_type": "code",
   "execution_count": 705,
   "metadata": {
    "collapsed": true
   },
   "outputs": [],
   "source": [
    "df['AGE'] = df['AGE'].map(lambda x:80 if x >80  else x)"
   ]
  },
  {
   "cell_type": "code",
   "execution_count": 706,
   "metadata": {
    "collapsed": false,
    "scrolled": true
   },
   "outputs": [
    {
     "data": {
      "text/plain": [
       "AGE\n",
       "0     0.024490\n",
       "10    0.022425\n",
       "20    0.072894\n",
       "30    0.090255\n",
       "40    0.087609\n",
       "50    0.120047\n",
       "60    0.089448\n",
       "70    0.035117\n",
       "80    0.000000\n",
       "Name: SIU_CUST_YN, dtype: float64"
      ]
     },
     "execution_count": 706,
     "metadata": {},
     "output_type": "execute_result"
    }
   ],
   "source": [
    "grouped = df['SIU_CUST_YN'].groupby(df['AGE'])\n",
    "grouped.mean()"
   ]
  },
  {
   "cell_type": "code",
   "execution_count": 707,
   "metadata": {
    "collapsed": true
   },
   "outputs": [],
   "source": [
    "df['AGE'] = df['AGE'].map(lambda x:100 if x == 50 else x) "
   ]
  },
  {
   "cell_type": "code",
   "execution_count": 708,
   "metadata": {
    "collapsed": true
   },
   "outputs": [],
   "source": [
    "df['AGE'] = df['AGE'].map(lambda x:70 if x == 30 or x == 40 or x == 60 else x) "
   ]
  },
  {
   "cell_type": "code",
   "execution_count": 709,
   "metadata": {
    "collapsed": true
   },
   "outputs": [],
   "source": [
    "df['AGE'] = df['AGE'].map(lambda x:40 if x == 20 else x) "
   ]
  },
  {
   "cell_type": "code",
   "execution_count": 710,
   "metadata": {
    "collapsed": true
   },
   "outputs": [],
   "source": [
    "df['AGE'] = df['AGE'].map(lambda x:0 if  x != 100 and x!=70 and x!=40  else x)"
   ]
  },
  {
   "cell_type": "code",
   "execution_count": 711,
   "metadata": {
    "collapsed": false
   },
   "outputs": [
    {
     "data": {
      "text/plain": [
       "CUST_ID\n",
       "1         70\n",
       "2        100\n",
       "3        100\n",
       "4         70\n",
       "5        100\n",
       "6         70\n",
       "7        100\n",
       "8        100\n",
       "9        100\n",
       "12       100\n",
       "13        70\n",
       "15       100\n",
       "16       100\n",
       "17        70\n",
       "18        70\n",
       "19        70\n",
       "20       100\n",
       "21        70\n",
       "22       100\n",
       "23         0\n",
       "24       100\n",
       "25        70\n",
       "26       100\n",
       "27       100\n",
       "28        70\n",
       "29        70\n",
       "30       100\n",
       "31       100\n",
       "32       100\n",
       "33        70\n",
       "        ... \n",
       "11063      0\n",
       "8711      40\n",
       "2058       0\n",
       "1699       0\n",
       "15499     40\n",
       "6156      40\n",
       "14826     40\n",
       "12570     40\n",
       "21572     40\n",
       "18279     70\n",
       "2409       0\n",
       "14389     70\n",
       "12858     70\n",
       "10744      0\n",
       "19371      0\n",
       "19375      0\n",
       "3561      70\n",
       "19406     70\n",
       "5926      40\n",
       "721      100\n",
       "19376      0\n",
       "19838     40\n",
       "21597     40\n",
       "20276    100\n",
       "2087       0\n",
       "875       70\n",
       "21483     40\n",
       "21940     40\n",
       "20356      0\n",
       "17118      0\n",
       "Name: AGE, dtype: int64"
      ]
     },
     "execution_count": 711,
     "metadata": {},
     "output_type": "execute_result"
    }
   ],
   "source": [
    "df[\"AGE\"]"
   ]
  },
  {
   "cell_type": "code",
   "execution_count": 712,
   "metadata": {
    "collapsed": true
   },
   "outputs": [],
   "source": [
    "x_data = df_AGE\n",
    "y_data = df['SIU_CUST_YN']"
   ]
  },
  {
   "cell_type": "code",
   "execution_count": 713,
   "metadata": {
    "collapsed": false,
    "scrolled": true
   },
   "outputs": [
    {
     "data": {
      "text/plain": [
       "array([[ 1.        ,  0.08830201],\n",
       "       [ 0.08830201,  1.        ]])"
      ]
     },
     "execution_count": 713,
     "metadata": {},
     "output_type": "execute_result"
    }
   ],
   "source": [
    "np.corrcoef(x_data, y_data)"
   ]
  },
  {
   "cell_type": "code",
   "execution_count": 714,
   "metadata": {
    "collapsed": true
   },
   "outputs": [],
   "source": [
    "df['RESI_COST'] = df['RESI_COST'].map(lambda x:5000 if x>=0 and x <10000 else x)"
   ]
  },
  {
   "cell_type": "code",
   "execution_count": 715,
   "metadata": {
    "collapsed": true
   },
   "outputs": [],
   "source": [
    "df['RESI_COST'] = df['RESI_COST'].map(lambda x:15000 if x>=10000 and x <20000 else x)"
   ]
  },
  {
   "cell_type": "code",
   "execution_count": 716,
   "metadata": {
    "collapsed": true
   },
   "outputs": [],
   "source": [
    "df['RESI_COST'] = df['RESI_COST'].map(lambda x:25000 if x>=20000 and x <30000 else x)"
   ]
  },
  {
   "cell_type": "code",
   "execution_count": 717,
   "metadata": {
    "collapsed": true
   },
   "outputs": [],
   "source": [
    "df['RESI_COST'] = df['RESI_COST'].map(lambda x:35000 if x>=30000 and x <40000 else x)"
   ]
  },
  {
   "cell_type": "code",
   "execution_count": 718,
   "metadata": {
    "collapsed": true
   },
   "outputs": [],
   "source": [
    "df['RESI_COST'] = df['RESI_COST'].map(lambda x:45000 if x>=40000 and x <50000 else x)"
   ]
  },
  {
   "cell_type": "code",
   "execution_count": 719,
   "metadata": {
    "collapsed": true
   },
   "outputs": [],
   "source": [
    "df['RESI_COST'] = df['RESI_COST'].map(lambda x:55000 if x>=50000 and x <60000 else x)"
   ]
  },
  {
   "cell_type": "code",
   "execution_count": 720,
   "metadata": {
    "collapsed": true
   },
   "outputs": [],
   "source": [
    "df['RESI_COST'] = df['RESI_COST'].map(lambda x:65000 if x>=60000 and x <70000 else x)"
   ]
  },
  {
   "cell_type": "code",
   "execution_count": 721,
   "metadata": {
    "collapsed": true
   },
   "outputs": [],
   "source": [
    "df['RESI_COST'] = df['RESI_COST'].map(lambda x:75000 if x>=70000 else x)"
   ]
  },
  {
   "cell_type": "code",
   "execution_count": 722,
   "metadata": {
    "collapsed": false,
    "scrolled": true
   },
   "outputs": [
    {
     "data": {
      "text/plain": [
       "RESI_COST\n",
       "5000     0.101288\n",
       "15000    0.089722\n",
       "25000    0.070947\n",
       "35000    0.059690\n",
       "45000    0.054770\n",
       "55000    0.057252\n",
       "65000    0.071429\n",
       "75000    0.042453\n",
       "Name: SIU_CUST_YN, dtype: float64"
      ]
     },
     "execution_count": 722,
     "metadata": {},
     "output_type": "execute_result"
    }
   ],
   "source": [
    "grouped = df['SIU_CUST_YN'].groupby(df['RESI_COST'])\n",
    "grouped.mean()"
   ]
  },
  {
   "cell_type": "code",
   "execution_count": 723,
   "metadata": {
    "collapsed": true
   },
   "outputs": [],
   "source": [
    "df['RESI_COST'] = df['RESI_COST'].map(lambda x:80 if x == 5000 else x) "
   ]
  },
  {
   "cell_type": "code",
   "execution_count": 724,
   "metadata": {
    "collapsed": true
   },
   "outputs": [],
   "source": [
    "df['RESI_COST'] = df['RESI_COST'].map(lambda x:50 if x == 15000 or x == 25000 or x==65000else x) "
   ]
  },
  {
   "cell_type": "code",
   "execution_count": 725,
   "metadata": {
    "collapsed": false
   },
   "outputs": [],
   "source": [
    "df['RESI_COST'] = df['RESI_COST'].map(lambda x:10 if x == 35000 or x==45000or x == 55000 else x) "
   ]
  },
  {
   "cell_type": "code",
   "execution_count": 726,
   "metadata": {
    "collapsed": false
   },
   "outputs": [],
   "source": [
    "df['RESI_COST'] = df['RESI_COST'].map(lambda x:0 if   x != 80 and x != 50 and x!=10 else x)"
   ]
  },
  {
   "cell_type": "code",
   "execution_count": 727,
   "metadata": {
    "collapsed": true
   },
   "outputs": [],
   "source": [
    "x_data = df_RESI_COST\n",
    "y_data = df['SIU_CUST_YN']"
   ]
  },
  {
   "cell_type": "code",
   "execution_count": 728,
   "metadata": {
    "collapsed": false
   },
   "outputs": [
    {
     "data": {
      "text/plain": [
       "array([[ 1.        ,  0.04951917],\n",
       "       [ 0.04951917,  1.        ]])"
      ]
     },
     "execution_count": 728,
     "metadata": {},
     "output_type": "execute_result"
    }
   ],
   "source": [
    "np.corrcoef(x_data, y_data)"
   ]
  },
  {
   "cell_type": "code",
   "execution_count": 729,
   "metadata": {
    "collapsed": true
   },
   "outputs": [],
   "source": [
    "df['TOTALPREM'] = df['TOTALPREM'].map(lambda x:5 if x>=0 and x <50000000 else x)"
   ]
  },
  {
   "cell_type": "code",
   "execution_count": 730,
   "metadata": {
    "collapsed": true
   },
   "outputs": [],
   "source": [
    "df['TOTALPREM'] = df['TOTALPREM'].map(lambda x:10 if x>=50000000 and x <100000000 else x)"
   ]
  },
  {
   "cell_type": "code",
   "execution_count": 731,
   "metadata": {
    "collapsed": true
   },
   "outputs": [],
   "source": [
    "df['TOTALPREM'] = df['TOTALPREM'].map(lambda x:15if x>=100000000 and x <150000000 else x)"
   ]
  },
  {
   "cell_type": "code",
   "execution_count": 732,
   "metadata": {
    "collapsed": true
   },
   "outputs": [],
   "source": [
    "df['TOTALPREM'] = df['TOTALPREM'].map(lambda x:20 if x>=150000000 and x <200000000 else x)"
   ]
  },
  {
   "cell_type": "code",
   "execution_count": 733,
   "metadata": {
    "collapsed": true
   },
   "outputs": [],
   "source": [
    "df['TOTALPREM'] = df['TOTALPREM'].map(lambda x:25 if x>=200000000 else x)"
   ]
  },
  {
   "cell_type": "code",
   "execution_count": 734,
   "metadata": {
    "collapsed": false
   },
   "outputs": [
    {
     "data": {
      "text/plain": [
       "TOTALPREM\n",
       "5.0     0.085488\n",
       "10.0    0.103960\n",
       "15.0    0.109489\n",
       "20.0    0.109677\n",
       "25.0    0.089623\n",
       "Name: SIU_CUST_YN, dtype: float64"
      ]
     },
     "execution_count": 734,
     "metadata": {},
     "output_type": "execute_result"
    }
   ],
   "source": [
    "grouped = df['SIU_CUST_YN'].groupby(df['TOTALPREM'])\n",
    "grouped.mean()"
   ]
  },
  {
   "cell_type": "code",
   "execution_count": 735,
   "metadata": {
    "collapsed": false
   },
   "outputs": [],
   "source": [
    "df['TOTALPREM'] = df['TOTALPREM'].map(lambda x:50 if x == 10 or x == 15 or x == 20 else x) "
   ]
  },
  {
   "cell_type": "code",
   "execution_count": 736,
   "metadata": {
    "collapsed": true
   },
   "outputs": [],
   "source": [
    "df['TOTALPREM'] = df['TOTALPREM'].map(lambda x:0 if   x != 50  else x) "
   ]
  },
  {
   "cell_type": "code",
   "execution_count": 737,
   "metadata": {
    "collapsed": true
   },
   "outputs": [],
   "source": [
    "x_data = df_TOTALPREM\n",
    "y_data = df['SIU_CUST_YN']"
   ]
  },
  {
   "cell_type": "code",
   "execution_count": 738,
   "metadata": {
    "collapsed": false
   },
   "outputs": [
    {
     "data": {
      "text/plain": [
       "array([[ 1.        ,  0.02162329],\n",
       "       [ 0.02162329,  1.        ]])"
      ]
     },
     "execution_count": 738,
     "metadata": {},
     "output_type": "execute_result"
    }
   ],
   "source": [
    "np.corrcoef(x_data, y_data)"
   ]
  },
  {
   "cell_type": "code",
   "execution_count": 739,
   "metadata": {
    "collapsed": false
   },
   "outputs": [
    {
     "data": {
      "text/plain": [
       "MINCRDT\n",
       "0.000000     0.023256\n",
       "1.000000     0.027778\n",
       "2.000000     0.048998\n",
       "3.000000     0.064151\n",
       "4.000000     0.043796\n",
       "5.000000     0.076763\n",
       "5.850519     0.097650\n",
       "6.000000     0.069316\n",
       "7.000000     0.136364\n",
       "8.000000     0.186154\n",
       "9.000000     0.212121\n",
       "10.000000    0.128205\n",
       "28.000000    0.000000\n",
       "99.000000    0.000000\n",
       "Name: SIU_CUST_YN, dtype: float64"
      ]
     },
     "execution_count": 739,
     "metadata": {},
     "output_type": "execute_result"
    }
   ],
   "source": [
    "grouped = df['SIU_CUST_YN'].groupby(df['MINCRDT'])\n",
    "grouped.mean()"
   ]
  },
  {
   "cell_type": "code",
   "execution_count": 740,
   "metadata": {
    "collapsed": true
   },
   "outputs": [],
   "source": [
    "df['MINCRDT'] = df['MINCRDT'].map(lambda x:80 if x==9.000000else x)"
   ]
  },
  {
   "cell_type": "code",
   "execution_count": 741,
   "metadata": {
    "collapsed": true
   },
   "outputs": [],
   "source": [
    "df['MINCRDT'] = df['MINCRDT'].map(lambda x:50 if x==8.000000 or x==10.000000or x==7.000000else x)"
   ]
  },
  {
   "cell_type": "code",
   "execution_count": 742,
   "metadata": {
    "collapsed": true
   },
   "outputs": [],
   "source": [
    "df['MINCRDT'] = df['MINCRDT'].map(lambda x:30 if x==5.850519  else x)"
   ]
  },
  {
   "cell_type": "code",
   "execution_count": 743,
   "metadata": {
    "collapsed": false
   },
   "outputs": [],
   "source": [
    "df['MINCRDT'] = df['MINCRDT'].map(lambda x:0 if x!= 80 and x!=50 and x!= 30  else x)"
   ]
  },
  {
   "cell_type": "code",
   "execution_count": 744,
   "metadata": {
    "collapsed": false
   },
   "outputs": [
    {
     "data": {
      "text/plain": [
       "array([[ 1.        ,  0.07940469],\n",
       "       [ 0.07940469,  1.        ]])"
      ]
     },
     "execution_count": 744,
     "metadata": {},
     "output_type": "execute_result"
    }
   ],
   "source": [
    "x_data = df_MINCRDT\n",
    "y_data = df['SIU_CUST_YN']\n",
    "\n",
    "np.corrcoef(x_data, y_data)"
   ]
  },
  {
   "cell_type": "code",
   "execution_count": 745,
   "metadata": {
    "collapsed": false
   },
   "outputs": [
    {
     "data": {
      "text/plain": [
       "MAXCRDT\n",
       "0.000000     0.031250\n",
       "1.000000     0.047619\n",
       "2.000000     0.108696\n",
       "3.000000     0.068182\n",
       "4.000000     0.139535\n",
       "5.000000     0.130435\n",
       "6.000000     0.068221\n",
       "7.000000     0.126374\n",
       "8.000000     0.172967\n",
       "9.000000     0.202532\n",
       "10.000000    0.205882\n",
       "19.529516    0.097650\n",
       "28.000000    0.000000\n",
       "99.000000    0.025489\n",
       "Name: SIU_CUST_YN, dtype: float64"
      ]
     },
     "execution_count": 745,
     "metadata": {},
     "output_type": "execute_result"
    }
   ],
   "source": [
    "grouped = df['SIU_CUST_YN'].groupby(df['MAXCRDT'])\n",
    "grouped.mean()"
   ]
  },
  {
   "cell_type": "code",
   "execution_count": 746,
   "metadata": {
    "collapsed": true
   },
   "outputs": [],
   "source": [
    "df['MAXCRDT']= df['MAXCRDT'].map(lambda x:80 if x==10.000000or x==9.000000else x)"
   ]
  },
  {
   "cell_type": "code",
   "execution_count": 747,
   "metadata": {
    "collapsed": true
   },
   "outputs": [],
   "source": [
    "df['MAXCRDT']= df['MAXCRDT'].map(lambda x:50 if x==8.000000or x==7.000000or x==2.000000 or x==4.000000 or x==5.000000else x)"
   ]
  },
  {
   "cell_type": "code",
   "execution_count": 748,
   "metadata": {
    "collapsed": true
   },
   "outputs": [],
   "source": [
    "df['MAXCRDT'] = df['MAXCRDT'].map(lambda x:0 if x!= 80 and x!=50  else x)"
   ]
  },
  {
   "cell_type": "code",
   "execution_count": 749,
   "metadata": {
    "collapsed": false
   },
   "outputs": [
    {
     "data": {
      "text/plain": [
       "array([[ 1.        ,  0.09121289],\n",
       "       [ 0.09121289,  1.        ]])"
      ]
     },
     "execution_count": 749,
     "metadata": {},
     "output_type": "execute_result"
    }
   ],
   "source": [
    "x_data = df_MAXCRDT\n",
    "y_data = df['SIU_CUST_YN']\n",
    "\n",
    "np.corrcoef(x_data, y_data)"
   ]
  },
  {
   "cell_type": "code",
   "execution_count": 750,
   "metadata": {
    "collapsed": true
   },
   "outputs": [],
   "source": [
    "df['LTBN_CHLD_AGE'] = df['LTBN_CHLD_AGE'].map(lambda x:0 if x < 5 else x)\n",
    "df['LTBN_CHLD_AGE'] = df['LTBN_CHLD_AGE'].map(lambda x:5 if x >=5 and x<10 else x)\n",
    "df['LTBN_CHLD_AGE'] = df['LTBN_CHLD_AGE'].map(lambda x:10 if x >=10 and x<15 else x)\n",
    "df['LTBN_CHLD_AGE'] = df['LTBN_CHLD_AGE'].map(lambda x:15 if x >=15 and x<20 else x)\n",
    "df['LTBN_CHLD_AGE'] = df['LTBN_CHLD_AGE'].map(lambda x:20 if x >=20 and x<25 else x)\n",
    "df['LTBN_CHLD_AGE'] = df['LTBN_CHLD_AGE'].map(lambda x:25 if x >=25 and x<30 else x)\n",
    "df['LTBN_CHLD_AGE'] = df['LTBN_CHLD_AGE'].map(lambda x:30 if x >=30 and x<36 else x)"
   ]
  },
  {
   "cell_type": "code",
   "execution_count": 751,
   "metadata": {
    "collapsed": false,
    "scrolled": false
   },
   "outputs": [
    {
     "data": {
      "text/plain": [
       "LTBN_CHLD_AGE\n",
       "0.0     0.078449\n",
       "5.0     0.066061\n",
       "10.0    0.091556\n",
       "15.0    0.082712\n",
       "20.0    0.108756\n",
       "25.0    0.108234\n",
       "30.0    0.134487\n",
       "Name: SIU_CUST_YN, dtype: float64"
      ]
     },
     "execution_count": 751,
     "metadata": {},
     "output_type": "execute_result"
    }
   ],
   "source": [
    "grouped = df['SIU_CUST_YN'].groupby(df['LTBN_CHLD_AGE'])\n",
    "grouped.mean()"
   ]
  },
  {
   "cell_type": "code",
   "execution_count": 752,
   "metadata": {
    "collapsed": true
   },
   "outputs": [],
   "source": [
    "df['LTBN_CHLD_AGE']= df['LTBN_CHLD_AGE'].map(lambda x:80 if x==20.0 or x==30.0 or x==25.0 else x)"
   ]
  },
  {
   "cell_type": "code",
   "execution_count": 753,
   "metadata": {
    "collapsed": true
   },
   "outputs": [],
   "source": [
    "df['LTBN_CHLD_AGE']= df['LTBN_CHLD_AGE'].map(lambda x:40 if x==10.0 or x==15.0 else x)"
   ]
  },
  {
   "cell_type": "code",
   "execution_count": 754,
   "metadata": {
    "collapsed": true
   },
   "outputs": [],
   "source": [
    "df['LTBN_CHLD_AGE'] = df['LTBN_CHLD_AGE'].map(lambda x:0 if x!=80 and x!=40 else x)"
   ]
  },
  {
   "cell_type": "code",
   "execution_count": 755,
   "metadata": {
    "collapsed": false
   },
   "outputs": [
    {
     "data": {
      "text/plain": [
       "CUST_ID\n",
       "1        40.0\n",
       "2        40.0\n",
       "3         0.0\n",
       "4         0.0\n",
       "5        40.0\n",
       "6        80.0\n",
       "7        80.0\n",
       "8        80.0\n",
       "9        40.0\n",
       "12       80.0\n",
       "13        0.0\n",
       "15        0.0\n",
       "16        0.0\n",
       "17        0.0\n",
       "18        0.0\n",
       "19       80.0\n",
       "20       80.0\n",
       "21       80.0\n",
       "22       80.0\n",
       "23        0.0\n",
       "24       80.0\n",
       "25       40.0\n",
       "26       80.0\n",
       "27       80.0\n",
       "28       80.0\n",
       "29       40.0\n",
       "30        0.0\n",
       "31       80.0\n",
       "32       80.0\n",
       "33       80.0\n",
       "         ... \n",
       "11063     0.0\n",
       "8711      0.0\n",
       "2058      0.0\n",
       "1699      0.0\n",
       "15499     0.0\n",
       "6156      0.0\n",
       "14826     0.0\n",
       "12570     0.0\n",
       "21572     0.0\n",
       "18279    80.0\n",
       "2409      0.0\n",
       "14389     0.0\n",
       "12858     0.0\n",
       "10744     0.0\n",
       "19371     0.0\n",
       "19375     0.0\n",
       "3561      0.0\n",
       "19406     0.0\n",
       "5926      0.0\n",
       "721      80.0\n",
       "19376     0.0\n",
       "19838     0.0\n",
       "21597     0.0\n",
       "20276    80.0\n",
       "2087      0.0\n",
       "875      40.0\n",
       "21483     0.0\n",
       "21940     0.0\n",
       "20356     0.0\n",
       "17118     0.0\n",
       "Name: LTBN_CHLD_AGE, dtype: float64"
      ]
     },
     "execution_count": 755,
     "metadata": {},
     "output_type": "execute_result"
    }
   ],
   "source": [
    "df['LTBN_CHLD_AGE'] "
   ]
  },
  {
   "cell_type": "code",
   "execution_count": 756,
   "metadata": {
    "collapsed": false
   },
   "outputs": [
    {
     "data": {
      "text/plain": [
       "array([[ 1.       ,  0.0562341],\n",
       "       [ 0.0562341,  1.       ]])"
      ]
     },
     "execution_count": 756,
     "metadata": {},
     "output_type": "execute_result"
    }
   ],
   "source": [
    "x_data = df_LTBN_CHLD_AGE\n",
    "y_data = df['SIU_CUST_YN']\n",
    "\n",
    "np.corrcoef(x_data, y_data)"
   ]
  },
  {
   "cell_type": "code",
   "execution_count": 757,
   "metadata": {
    "collapsed": false,
    "scrolled": true
   },
   "outputs": [
    {
     "data": {
      "text/plain": [
       "DIVIDED_SET            int64\n",
       "SIU_CUST_YN            int64\n",
       "SEX                    int64\n",
       "AGE                    int64\n",
       "RESI_COST              int64\n",
       "RESI_TYPE_CODE       float64\n",
       "FP_CAREER              int64\n",
       "CUST_RGST            float64\n",
       "CTPR                category\n",
       "OCCP_GRP_1          category\n",
       "OCCP_GRP_2          category\n",
       "TOTALPREM            float64\n",
       "MINCRDT              float64\n",
       "MAXCRDT              float64\n",
       "WEDD_YN                int64\n",
       "MATE_OCCP_GRP_1     category\n",
       "MATE_OCCP_GRP_2     category\n",
       "CHLD_CNT             float64\n",
       "LTBN_CHLD_AGE        float64\n",
       "MAX_PAYM_YM          float64\n",
       "MAX_PRM              float64\n",
       "CUST_INCM            float64\n",
       "RCBASE_HSHD_INCM       int64\n",
       "JPBASE_HSHD_INCM     float64\n",
       "dtype: object"
      ]
     },
     "execution_count": 757,
     "metadata": {},
     "output_type": "execute_result"
    }
   ],
   "source": [
    "df['CTPR'] = df['CTPR'].astype(\"category\")\n",
    "df['OCCP_GRP_1'] = df['OCCP_GRP_1'].astype(\"category\")\n",
    "df['OCCP_GRP_2'] = df['OCCP_GRP_2'].astype(\"category\")\n",
    "df['MATE_OCCP_GRP_1'] = df['MATE_OCCP_GRP_1'].astype(\"category\")\n",
    "df['MATE_OCCP_GRP_2'] = df['MATE_OCCP_GRP_2'].astype(\"category\")\n",
    "\n",
    "df.dtypes"
   ]
  },
  {
   "cell_type": "code",
   "execution_count": 758,
   "metadata": {
    "collapsed": false,
    "scrolled": true
   },
   "outputs": [],
   "source": [
    "# df1 = pd.get_dummies(df, columns=[\"CTPR\",\"OCCP_GRP_1\",\"OCCP_GRP_2\",\"MATE_OCCP_GRP_1\",\"MATE_OCCP_GRP_2\"], drop_first = True)\n",
    "# df1.describe()\n",
    "# df1.head()"
   ]
  },
  {
   "cell_type": "code",
   "execution_count": 759,
   "metadata": {
    "collapsed": false,
    "scrolled": true
   },
   "outputs": [
    {
     "data": {
      "text/plain": [
       "Index(['DIVIDED_SET', 'SIU_CUST_YN', 'SEX', 'AGE', 'RESI_COST',\n",
       "       'RESI_TYPE_CODE', 'FP_CAREER', 'CUST_RGST', 'CTPR', 'OCCP_GRP_1',\n",
       "       'OCCP_GRP_2', 'TOTALPREM', 'MINCRDT', 'MAXCRDT', 'WEDD_YN',\n",
       "       'MATE_OCCP_GRP_1', 'MATE_OCCP_GRP_2', 'CHLD_CNT', 'LTBN_CHLD_AGE',\n",
       "       'MAX_PAYM_YM', 'MAX_PRM', 'CUST_INCM', 'RCBASE_HSHD_INCM',\n",
       "       'JPBASE_HSHD_INCM'],\n",
       "      dtype='object')"
      ]
     },
     "execution_count": 759,
     "metadata": {},
     "output_type": "execute_result"
    }
   ],
   "source": [
    "df.columns"
   ]
  },
  {
   "cell_type": "code",
   "execution_count": 760,
   "metadata": {
    "collapsed": false
   },
   "outputs": [
    {
     "data": {
      "text/plain": [
       "CTPR\n",
       "강원    0.141221\n",
       "경기    0.072437\n",
       "경남    0.064295\n",
       "경북    0.050223\n",
       "광주    0.195734\n",
       "대구    0.061606\n",
       "대전    0.085837\n",
       "부산    0.142446\n",
       "서울    0.090292\n",
       "세종    0.054054\n",
       "울산    0.029457\n",
       "인천    0.135682\n",
       "전남    0.098456\n",
       "전북    0.114350\n",
       "제주    0.000000\n",
       "충남    0.056277\n",
       "충북    0.026316\n",
       "Name: SIU_CUST_YN, dtype: float64"
      ]
     },
     "execution_count": 760,
     "metadata": {},
     "output_type": "execute_result"
    }
   ],
   "source": [
    "grouped = df['SIU_CUST_YN'].groupby(df['CTPR'])\n",
    "#print(grouped.describe())\n",
    "grouped.mean()"
   ]
  },
  {
   "cell_type": "code",
   "execution_count": 761,
   "metadata": {
    "collapsed": true
   },
   "outputs": [],
   "source": [
    "df['CTPR'] = df['CTPR'].map(lambda x:50 if x == '강원' or x == '광주' or x == '부산' or x == '인천' or x == '전북' else x) "
   ]
  },
  {
   "cell_type": "code",
   "execution_count": 762,
   "metadata": {
    "collapsed": true
   },
   "outputs": [],
   "source": [
    "df['CTPR'] = df['CTPR'].map(lambda x:30 if x == '경기' or x=='경남' or x=='경북'  or x=='대구'or x=='대전' or x=='서울' or x=='전남' else x)"
   ]
  },
  {
   "cell_type": "code",
   "execution_count": 763,
   "metadata": {
    "collapsed": true
   },
   "outputs": [],
   "source": [
    "df['CTPR'] = df['CTPR'].map(lambda x:0 if  x != 30 and x!=50  else x)"
   ]
  },
  {
   "cell_type": "code",
   "execution_count": 764,
   "metadata": {
    "collapsed": false
   },
   "outputs": [
    {
     "data": {
      "text/plain": [
       "CUST_ID\n",
       "1         0\n",
       "2        30\n",
       "3        30\n",
       "4        30\n",
       "5        50\n",
       "6         0\n",
       "7        30\n",
       "8        30\n",
       "9        30\n",
       "12       30\n",
       "13       30\n",
       "15       30\n",
       "16       50\n",
       "17       30\n",
       "18       30\n",
       "19       30\n",
       "20       30\n",
       "21       30\n",
       "22       30\n",
       "23       30\n",
       "24       50\n",
       "25       30\n",
       "26       50\n",
       "27       30\n",
       "28       50\n",
       "29        0\n",
       "30       30\n",
       "31       50\n",
       "32       30\n",
       "33       30\n",
       "         ..\n",
       "11063    50\n",
       "8711     30\n",
       "2058     30\n",
       "1699     30\n",
       "15499    50\n",
       "6156     30\n",
       "14826    30\n",
       "12570    30\n",
       "21572    30\n",
       "18279    50\n",
       "2409     30\n",
       "14389    30\n",
       "12858    30\n",
       "10744    50\n",
       "19371    50\n",
       "19375    30\n",
       "3561     50\n",
       "19406    50\n",
       "5926     30\n",
       "721      30\n",
       "19376    30\n",
       "19838    30\n",
       "21597    30\n",
       "20276    50\n",
       "2087     30\n",
       "875      30\n",
       "21483    30\n",
       "21940    30\n",
       "20356    30\n",
       "17118    30\n",
       "Name: CTPR, dtype: int64"
      ]
     },
     "execution_count": 764,
     "metadata": {},
     "output_type": "execute_result"
    }
   ],
   "source": [
    "df['CTPR']"
   ]
  },
  {
   "cell_type": "code",
   "execution_count": 765,
   "metadata": {
    "collapsed": false
   },
   "outputs": [
    {
     "data": {
      "text/plain": [
       "array([[ 1.        ,  0.11247773],\n",
       "       [ 0.11247773,  1.        ]])"
      ]
     },
     "execution_count": 765,
     "metadata": {},
     "output_type": "execute_result"
    }
   ],
   "source": [
    "x_data = df['CTPR']\n",
    "y_data = df['SIU_CUST_YN']\n",
    "\n",
    "\n",
    "np.corrcoef(x_data, y_data)"
   ]
  },
  {
   "cell_type": "code",
   "execution_count": 766,
   "metadata": {
    "collapsed": false
   },
   "outputs": [
    {
     "data": {
      "text/plain": [
       "OCCP_GRP_1\n",
       "1.주부      0.113130\n",
       "2.자영업     0.142722\n",
       "3.사무직     0.083712\n",
       "4.전문직     0.053650\n",
       "5.서비스     0.102534\n",
       "6.제조업     0.042587\n",
       "7.1차산업    0.038462\n",
       "8.기타      0.063802\n",
       "Name: SIU_CUST_YN, dtype: float64"
      ]
     },
     "execution_count": 766,
     "metadata": {},
     "output_type": "execute_result"
    }
   ],
   "source": [
    "grouped = df['SIU_CUST_YN'].groupby(df['OCCP_GRP_1'])\n",
    "#print(grouped.describe())\n",
    "grouped.mean()"
   ]
  },
  {
   "cell_type": "code",
   "execution_count": 767,
   "metadata": {
    "collapsed": true
   },
   "outputs": [],
   "source": [
    "df['OCCP_GRP_1'] = df['OCCP_GRP_1'].map(lambda x:50 if x == '1.주부' or x == '5.서비스' or x == '2.자영업'else x) "
   ]
  },
  {
   "cell_type": "code",
   "execution_count": 768,
   "metadata": {
    "collapsed": true
   },
   "outputs": [],
   "source": [
    "df['OCCP_GRP_1'] = df['OCCP_GRP_1'].map(lambda x:30 if x == '3.사무직' or x=='8.기타'else x)"
   ]
  },
  {
   "cell_type": "code",
   "execution_count": 769,
   "metadata": {
    "collapsed": false
   },
   "outputs": [],
   "source": [
    "df['OCCP_GRP_1'] = df['OCCP_GRP_1'].map(lambda x:15 if x == '4.전문직' or x=='6.제조업' or x=='7.1차산업'else x)"
   ]
  },
  {
   "cell_type": "code",
   "execution_count": 770,
   "metadata": {
    "collapsed": true
   },
   "outputs": [],
   "source": [
    "df['OCCP_GRP_1'] = df['OCCP_GRP_1'].map(lambda x:0 if  x != 15 and x != 30 and x!=50  else x)"
   ]
  },
  {
   "cell_type": "code",
   "execution_count": 771,
   "metadata": {
    "collapsed": false
   },
   "outputs": [
    {
     "data": {
      "text/plain": [
       "CUST_ID\n",
       "1        30\n",
       "2        30\n",
       "3        50\n",
       "4        50\n",
       "5        50\n",
       "6        30\n",
       "7        50\n",
       "8        50\n",
       "9        15\n",
       "12       15\n",
       "13       15\n",
       "15       30\n",
       "16       50\n",
       "17       50\n",
       "18       50\n",
       "19       50\n",
       "20       50\n",
       "21       50\n",
       "22       50\n",
       "23       50\n",
       "24       50\n",
       "25       50\n",
       "26       50\n",
       "27       15\n",
       "28       30\n",
       "29       30\n",
       "30       50\n",
       "31       50\n",
       "32       50\n",
       "33       30\n",
       "         ..\n",
       "11063    30\n",
       "8711     30\n",
       "2058     30\n",
       "1699     30\n",
       "15499    30\n",
       "6156     30\n",
       "14826    30\n",
       "12570    30\n",
       "21572    30\n",
       "18279    30\n",
       "2409     30\n",
       "14389    15\n",
       "12858    30\n",
       "10744    30\n",
       "19371    30\n",
       "19375    30\n",
       "3561     15\n",
       "19406    50\n",
       "5926     30\n",
       "721      50\n",
       "19376    30\n",
       "19838    30\n",
       "21597    30\n",
       "20276    50\n",
       "2087     30\n",
       "875      50\n",
       "21483    50\n",
       "21940    30\n",
       "20356    30\n",
       "17118    30\n",
       "Name: OCCP_GRP_1, dtype: int64"
      ]
     },
     "execution_count": 771,
     "metadata": {},
     "output_type": "execute_result"
    }
   ],
   "source": [
    "df['OCCP_GRP_1']"
   ]
  },
  {
   "cell_type": "code",
   "execution_count": 772,
   "metadata": {
    "collapsed": false
   },
   "outputs": [
    {
     "data": {
      "text/plain": [
       "array([[ 1.        ,  0.09579155],\n",
       "       [ 0.09579155,  1.        ]])"
      ]
     },
     "execution_count": 772,
     "metadata": {},
     "output_type": "execute_result"
    }
   ],
   "source": [
    "x_data = df['OCCP_GRP_1']\n",
    "y_data = df['SIU_CUST_YN']\n",
    "\n",
    "\n",
    "np.corrcoef(x_data, y_data)"
   ]
  },
  {
   "cell_type": "code",
   "execution_count": 773,
   "metadata": {
    "collapsed": false,
    "scrolled": true
   },
   "outputs": [
    {
     "data": {
      "text/plain": [
       "OCCP_GRP_2\n",
       "1차산업 종사자    0.047354\n",
       "2차산업 종사자    0.044816\n",
       "3차산업 종사자    0.134755\n",
       "고소득 전문직     0.000000\n",
       "고소득의료직      0.057143\n",
       "고위 공무원      0.023810\n",
       "공무원         0.054054\n",
       "교사          0.024691\n",
       "교육관련직       0.066838\n",
       "기업/단체 임원    0.084746\n",
       "기타          0.063232\n",
       "단순 노무직      0.095238\n",
       "단순 사무직      0.096346\n",
       "대학교수/강사     0.066667\n",
       "법무직 종사자     0.000000\n",
       "사무직         0.085444\n",
       "예체능계 종사자    0.105590\n",
       "운전직         0.065306\n",
       "의료직 종사자     0.055215\n",
       "자영업         0.133684\n",
       "전문직         0.055072\n",
       "종교인/역술인     0.151515\n",
       "주부          0.113250\n",
       "학생          0.059934\n",
       "학자/연구직      0.025641\n",
       "Name: SIU_CUST_YN, dtype: float64"
      ]
     },
     "execution_count": 773,
     "metadata": {},
     "output_type": "execute_result"
    }
   ],
   "source": [
    "grouped = df['SIU_CUST_YN'].groupby(df['OCCP_GRP_2'])\n",
    "#print(grouped.describe())\n",
    "grouped.mean()"
   ]
  },
  {
   "cell_type": "code",
   "execution_count": 774,
   "metadata": {
    "collapsed": true
   },
   "outputs": [],
   "source": [
    "df['OCCP_GRP_2'] = df['OCCP_GRP_2'].map(lambda x:50 if  x == '3차산업 종사자' or x=='자영업'or x == '주부' or x == '예체능계 종사자' else x)"
   ]
  },
  {
   "cell_type": "code",
   "execution_count": 775,
   "metadata": {
    "collapsed": true
   },
   "outputs": [],
   "source": [
    "df['OCCP_GRP_2'] = df['OCCP_GRP_2'].map(lambda x:30 if  x == '단순 노무직' or x=='단순 사무직'or x == '사무직' or x == '기업/단체 임원' else x)"
   ]
  },
  {
   "cell_type": "code",
   "execution_count": 776,
   "metadata": {
    "collapsed": true
   },
   "outputs": [],
   "source": [
    "df['OCCP_GRP_2'] = df['OCCP_GRP_2'].map(lambda x:15 if  x == '교육관련직' or x=='기타' or x=='대학교수/강사'or x=='운전직'or x=='기타'or x=='공무원' or x=='고소득의료직'or x=='전문직' or x=='학생 'else x)"
   ]
  },
  {
   "cell_type": "code",
   "execution_count": 777,
   "metadata": {
    "collapsed": true
   },
   "outputs": [],
   "source": [
    "df['OCCP_GRP_2'] = df['OCCP_GRP_2'].map(lambda x:0 if  x != 15 and x != 30 and x!=50  else x)"
   ]
  },
  {
   "cell_type": "code",
   "execution_count": 778,
   "metadata": {
    "collapsed": false
   },
   "outputs": [
    {
     "data": {
      "text/plain": [
       "CUST_ID\n",
       "1        30\n",
       "2        30\n",
       "3         0\n",
       "4        50\n",
       "5        50\n",
       "6         0\n",
       "7        50\n",
       "8        50\n",
       "9        15\n",
       "12       15\n",
       "13       15\n",
       "15       30\n",
       "16       50\n",
       "17        0\n",
       "18        0\n",
       "19       50\n",
       "20       50\n",
       "21       50\n",
       "22       50\n",
       "23       50\n",
       "24       50\n",
       "25       50\n",
       "26       50\n",
       "27       15\n",
       "28       30\n",
       "29       15\n",
       "30       50\n",
       "31       50\n",
       "32       50\n",
       "33       30\n",
       "         ..\n",
       "11063     0\n",
       "8711      0\n",
       "2058      0\n",
       "1699      0\n",
       "15499     0\n",
       "6156      0\n",
       "14826     0\n",
       "12570     0\n",
       "21572     0\n",
       "18279    30\n",
       "2409      0\n",
       "14389     0\n",
       "12858    30\n",
       "10744     0\n",
       "19371     0\n",
       "19375     0\n",
       "3561      0\n",
       "19406    50\n",
       "5926      0\n",
       "721      50\n",
       "19376     0\n",
       "19838     0\n",
       "21597     0\n",
       "20276    50\n",
       "2087      0\n",
       "875      50\n",
       "21483    50\n",
       "21940     0\n",
       "20356     0\n",
       "17118     0\n",
       "Name: OCCP_GRP_2, dtype: int64"
      ]
     },
     "execution_count": 778,
     "metadata": {},
     "output_type": "execute_result"
    }
   ],
   "source": [
    "df['OCCP_GRP_2']"
   ]
  },
  {
   "cell_type": "code",
   "execution_count": 779,
   "metadata": {
    "collapsed": false
   },
   "outputs": [
    {
     "data": {
      "text/plain": [
       "array([[ 1.        ,  0.10778524],\n",
       "       [ 0.10778524,  1.        ]])"
      ]
     },
     "execution_count": 779,
     "metadata": {},
     "output_type": "execute_result"
    }
   ],
   "source": [
    "x_data = df['OCCP_GRP_2']\n",
    "y_data = df['SIU_CUST_YN']\n",
    "\n",
    "\n",
    "np.corrcoef(x_data, y_data)"
   ]
  },
  {
   "cell_type": "code",
   "execution_count": 780,
   "metadata": {
    "collapsed": false
   },
   "outputs": [
    {
     "data": {
      "text/plain": [
       "MATE_OCCP_GRP_1\n",
       "1.주부      0.073990\n",
       "2.자영업     0.123351\n",
       "3.사무직     0.092691\n",
       "4.전문직     0.073887\n",
       "5.서비스     0.102113\n",
       "6.제조업     0.089251\n",
       "7.1차산업    0.089457\n",
       "8.기타      0.089810\n",
       "Name: SIU_CUST_YN, dtype: float64"
      ]
     },
     "execution_count": 780,
     "metadata": {},
     "output_type": "execute_result"
    }
   ],
   "source": [
    "grouped = df['SIU_CUST_YN'].groupby(df['MATE_OCCP_GRP_1'])\n",
    "#print(grouped.describe())\n",
    "grouped.mean()"
   ]
  },
  {
   "cell_type": "code",
   "execution_count": 781,
   "metadata": {
    "collapsed": true
   },
   "outputs": [],
   "source": [
    "df['MATE_OCCP_GRP_1'] = df['MATE_OCCP_GRP_1'].map(lambda x:50 if  x == '2.자영업' or x=='5.서비스' else x)"
   ]
  },
  {
   "cell_type": "code",
   "execution_count": 782,
   "metadata": {
    "collapsed": true
   },
   "outputs": [],
   "source": [
    "df['MATE_OCCP_GRP_1'] = df['MATE_OCCP_GRP_1'].map(lambda x:30 if  x == '3.사무직' or x=='6.제조업'or x=='7.1차산업'or x=='8.기타' else x)"
   ]
  },
  {
   "cell_type": "code",
   "execution_count": 783,
   "metadata": {
    "collapsed": true
   },
   "outputs": [],
   "source": [
    "df['MATE_OCCP_GRP_1'] = df['MATE_OCCP_GRP_1'].map(lambda x:15 if  x == '1.주부' or x=='4.전문직' else x)"
   ]
  },
  {
   "cell_type": "code",
   "execution_count": 784,
   "metadata": {
    "collapsed": true
   },
   "outputs": [],
   "source": [
    "df['MATE_OCCP_GRP_1'] = df['MATE_OCCP_GRP_1'].map(lambda x:0 if  x != 15 and x != 30 and x!=50  else x)"
   ]
  },
  {
   "cell_type": "code",
   "execution_count": 785,
   "metadata": {
    "collapsed": false
   },
   "outputs": [
    {
     "data": {
      "text/plain": [
       "CUST_ID\n",
       "1        30\n",
       "2        15\n",
       "3        30\n",
       "4        30\n",
       "5        30\n",
       "6        15\n",
       "7        30\n",
       "8        50\n",
       "9        15\n",
       "12       15\n",
       "13       50\n",
       "15       15\n",
       "16       30\n",
       "17       15\n",
       "18       30\n",
       "19       15\n",
       "20       50\n",
       "21       30\n",
       "22       50\n",
       "23       50\n",
       "24       30\n",
       "25       50\n",
       "26       50\n",
       "27       15\n",
       "28       50\n",
       "29       50\n",
       "30       30\n",
       "31       30\n",
       "32       50\n",
       "33       50\n",
       "         ..\n",
       "11063    30\n",
       "8711     30\n",
       "2058     30\n",
       "1699     30\n",
       "15499    30\n",
       "6156     30\n",
       "14826    30\n",
       "12570    30\n",
       "21572    30\n",
       "18279    15\n",
       "2409     30\n",
       "14389    30\n",
       "12858    30\n",
       "10744    30\n",
       "19371    30\n",
       "19375    30\n",
       "3561     30\n",
       "19406    30\n",
       "5926     30\n",
       "721      15\n",
       "19376    30\n",
       "19838    30\n",
       "21597    30\n",
       "20276    15\n",
       "2087     30\n",
       "875      30\n",
       "21483    30\n",
       "21940    30\n",
       "20356    30\n",
       "17118    30\n",
       "Name: MATE_OCCP_GRP_1, dtype: int64"
      ]
     },
     "execution_count": 785,
     "metadata": {},
     "output_type": "execute_result"
    }
   ],
   "source": [
    "df['MATE_OCCP_GRP_1']"
   ]
  },
  {
   "cell_type": "code",
   "execution_count": 786,
   "metadata": {
    "collapsed": false
   },
   "outputs": [
    {
     "data": {
      "text/plain": [
       "array([[ 1.        ,  0.03648088],\n",
       "       [ 0.03648088,  1.        ]])"
      ]
     },
     "execution_count": 786,
     "metadata": {},
     "output_type": "execute_result"
    }
   ],
   "source": [
    "x_data = df['MATE_OCCP_GRP_1']\n",
    "y_data = df['SIU_CUST_YN']\n",
    "\n",
    "\n",
    "np.corrcoef(x_data, y_data)"
   ]
  },
  {
   "cell_type": "code",
   "execution_count": 787,
   "metadata": {
    "collapsed": false
   },
   "outputs": [
    {
     "data": {
      "text/plain": [
       "MATE_OCCP_GRP_2\n",
       "1차산업 종사자    0.086835\n",
       "2차산업 종사자    0.095273\n",
       "3차산업 종사자    0.083237\n",
       "고소득 전문직     0.000000\n",
       "고소득의료직      0.034483\n",
       "고위 공무원      0.054054\n",
       "공무원         0.043860\n",
       "교사          0.049180\n",
       "교육관련직       0.075472\n",
       "기업/단체 임원    0.138211\n",
       "기타          0.108597\n",
       "단순 노무직      0.054795\n",
       "단순 사무직      0.060000\n",
       "대학교수/강사     0.000000\n",
       "사무직         0.099607\n",
       "예체능계 종사자    0.045455\n",
       "운전직         0.096654\n",
       "의료직 종사자     0.063158\n",
       "자영업         0.126351\n",
       "전문직         0.097959\n",
       "종교인/역술인     0.214286\n",
       "주부          0.074208\n",
       "학생          0.233333\n",
       "학자/연구직      0.095238\n",
       "Name: SIU_CUST_YN, dtype: float64"
      ]
     },
     "execution_count": 787,
     "metadata": {},
     "output_type": "execute_result"
    }
   ],
   "source": [
    "grouped = df['SIU_CUST_YN'].groupby(df['MATE_OCCP_GRP_2'])\n",
    "#print(grouped.describe())\n",
    "grouped.mean()"
   ]
  },
  {
   "cell_type": "code",
   "execution_count": 788,
   "metadata": {
    "collapsed": false
   },
   "outputs": [],
   "source": [
    "df['MATE_OCCP_GRP_2'] = df['MATE_OCCP_GRP_2'].map(lambda x:80 if x == '종교인/역술인' or x=='학생'  else x)"
   ]
  },
  {
   "cell_type": "code",
   "execution_count": 789,
   "metadata": {
    "collapsed": true
   },
   "outputs": [],
   "source": [
    "df['MATE_OCCP_GRP_2'] = df['MATE_OCCP_GRP_2'].map(lambda x:50 if x == '기업/단체 임원' or x=='기타' or x =='자영업'  else x)"
   ]
  },
  {
   "cell_type": "code",
   "execution_count": 790,
   "metadata": {
    "collapsed": false
   },
   "outputs": [],
   "source": [
    "df['MATE_OCCP_GRP_2'] = df['MATE_OCCP_GRP_2'].map(lambda x:30 if  x == '1차산업 종사자' or x=='3차산업 종사자'or x == '2차산업 종사자' or x == '사무직' or x == '운전직'or x == '전문직'or x == '학자/연구직'else x)"
   ]
  },
  {
   "cell_type": "code",
   "execution_count": 791,
   "metadata": {
    "collapsed": true
   },
   "outputs": [],
   "source": [
    "df['MATE_OCCP_GRP_2'] = df['MATE_OCCP_GRP_2'].map(lambda x:15 if  x == '고위 공무원' or x=='공무원'or x == '교사' or x == '단순 노무직' or x == '단순 사무직' or x == '의료직 종사자' or x == '주부'or x == '교육관련직' or x == '교육관련직'else x)"
   ]
  },
  {
   "cell_type": "code",
   "execution_count": 792,
   "metadata": {
    "collapsed": true
   },
   "outputs": [],
   "source": [
    "df['MATE_OCCP_GRP_2'] = df['MATE_OCCP_GRP_2'].map(lambda x:0 if  x != 15 and x != 30 and x!=50 and x!=80 else x)"
   ]
  },
  {
   "cell_type": "code",
   "execution_count": 793,
   "metadata": {
    "collapsed": false
   },
   "outputs": [
    {
     "data": {
      "text/plain": [
       "CUST_ID\n",
       "1        30\n",
       "2        15\n",
       "3        30\n",
       "4        30\n",
       "5        15\n",
       "6        15\n",
       "7        30\n",
       "8        30\n",
       "9        15\n",
       "12       15\n",
       "13        0\n",
       "15       15\n",
       "16       30\n",
       "17       15\n",
       "18       15\n",
       "19       15\n",
       "20       30\n",
       "21       30\n",
       "22       50\n",
       "23       30\n",
       "24       30\n",
       "25        0\n",
       "26       50\n",
       "27       15\n",
       "28       30\n",
       "29       30\n",
       "30       30\n",
       "31       30\n",
       "32       30\n",
       "33       50\n",
       "         ..\n",
       "11063    30\n",
       "8711     30\n",
       "2058     30\n",
       "1699     30\n",
       "15499    30\n",
       "6156     30\n",
       "14826    30\n",
       "12570    30\n",
       "21572    30\n",
       "18279    15\n",
       "2409     30\n",
       "14389    30\n",
       "12858    30\n",
       "10744    30\n",
       "19371    30\n",
       "19375    30\n",
       "3561     30\n",
       "19406    30\n",
       "5926     30\n",
       "721      15\n",
       "19376    30\n",
       "19838    30\n",
       "21597    30\n",
       "20276    15\n",
       "2087     30\n",
       "875      30\n",
       "21483    30\n",
       "21940    30\n",
       "20356    30\n",
       "17118    30\n",
       "Name: MATE_OCCP_GRP_2, dtype: int64"
      ]
     },
     "execution_count": 793,
     "metadata": {},
     "output_type": "execute_result"
    }
   ],
   "source": [
    "df['MATE_OCCP_GRP_2']"
   ]
  },
  {
   "cell_type": "code",
   "execution_count": 794,
   "metadata": {
    "collapsed": false
   },
   "outputs": [
    {
     "data": {
      "text/plain": [
       "array([[ 1.        ,  0.05235873],\n",
       "       [ 0.05235873,  1.        ]])"
      ]
     },
     "execution_count": 794,
     "metadata": {},
     "output_type": "execute_result"
    }
   ],
   "source": [
    "x_data = df['MATE_OCCP_GRP_2']\n",
    "y_data = df['SIU_CUST_YN']\n",
    "\n",
    "\n",
    "np.corrcoef(x_data, y_data)"
   ]
  }
 ],
 "metadata": {
  "anaconda-cloud": {},
  "kernelspec": {
   "display_name": "Python 3",
   "language": "python",
   "name": "python3"
  },
  "language_info": {
   "codemirror_mode": {
    "name": "ipython",
    "version": 3
   },
   "file_extension": ".py",
   "mimetype": "text/x-python",
   "name": "python",
   "nbconvert_exporter": "python",
   "pygments_lexer": "ipython3",
   "version": "3.4.5"
  }
 },
 "nbformat": 4,
 "nbformat_minor": 1
}
