{
 "cells": [
  {
   "cell_type": "code",
   "execution_count": 57,
   "metadata": {
    "collapsed": true
   },
   "outputs": [],
   "source": [
    "import numpy as np\n",
    "import matplotlib.pyplot as plt\n",
    "from sklearn import linear_model, datasets\n",
    "from sklearn.preprocessing import normalize"
   ]
  },
  {
   "cell_type": "code",
   "execution_count": 63,
   "metadata": {
    "collapsed": false
   },
   "outputs": [],
   "source": [
    "import matplotlib.pyplot as plt\n",
    "import numpy as np\n",
    "from sklearn import  linear_model\n",
    "\n",
    "\n",
    "%matplotlib inline\n",
    "\n",
    "raw_data = np.loadtxt('pima-indians-diabetes.csv', delimiter=',',unpack=False, dtype='float32')"
   ]
  },
  {
   "cell_type": "code",
   "execution_count": 64,
   "metadata": {
    "collapsed": false
   },
   "outputs": [],
   "source": [
    "raw_data[:, :8] = normalize(raw_data[:, :8], axis=0)"
   ]
  },
  {
   "cell_type": "code",
   "execution_count": 76,
   "metadata": {
    "collapsed": false
   },
   "outputs": [],
   "source": [
    "x_data = raw_data[:,:-1]\n",
    "x_data =np.insert(x_data,0,1,axis=1)\n",
    "x_data =x_data.T\n",
    "y_data = raw_data[:,-1]\n"
   ]
  },
  {
   "cell_type": "code",
   "execution_count": 77,
   "metadata": {
    "collapsed": false
   },
   "outputs": [],
   "source": [
    "import tensorflow as tf\n",
    "\n",
    "W = tf.Variable(tf.random_uniform([1, 9], -1.0, -1.0))\n",
    "\n",
    "\n",
    "h = tf.matmul(W, x_data)\n",
    "hypothesis = tf.div(1., 1. + tf.exp(-h))\n",
    "cost = -1 * tf.reduce_mean(y_data * tf.log(hypothesis) + (1-y_data) * tf.log(1-hypothesis))\n",
    "\n",
    "a = tf.Variable(0.1)\n",
    "optimizer = tf.train.GradientDescentOptimizer(a)\n",
    "train = optimizer.minimize(cost)\n",
    "\n",
    "init = tf.initialize_all_variables()"
   ]
  },
  {
   "cell_type": "code",
   "execution_count": 78,
   "metadata": {
    "collapsed": false,
    "scrolled": false
   },
   "outputs": [
    {
     "name": "stdout",
     "output_type": "stream",
     "text": [
      "0 0.698057\n",
      "5000 0.647563\n",
      "10000 0.637724\n",
      "15000 0.629154\n",
      "20000 0.621653\n",
      "25000 0.615051\n",
      "30000 0.609206\n",
      "35000 0.603999\n",
      "40000 0.599332\n",
      "45000 0.595122\n",
      "50000 0.591304\n",
      "55000 0.587821\n",
      "60000 0.584626\n",
      "65000 0.58168\n",
      "70000 0.578952\n",
      "75000 0.576412\n",
      "80000 0.574039\n",
      "85000 0.571813\n",
      "90000 0.569716\n",
      "95000 0.567735\n",
      "100000 0.565856\n",
      "105000 0.564072\n",
      "110000 0.562369\n",
      "115000 0.560741\n",
      "120000 0.55918\n",
      "125000 0.557681\n",
      "130000 0.556238\n",
      "135000 0.554849\n",
      "140000 0.553507\n",
      "145000 0.552208\n",
      "150000 0.550949\n",
      "155000 0.549729\n",
      "160000 0.548543\n",
      "165000 0.54739\n",
      "170000 0.54627\n",
      "175000 0.545175\n",
      "180000 0.544111\n",
      "185000 0.54307\n",
      "190000 0.542054\n",
      "195000 0.541061\n"
     ]
    }
   ],
   "source": [
    "sess = tf.Session()\n",
    "sess.run(init)\n",
    "\n",
    "\n",
    "for i in range(200000):\n",
    "    sess.run(train)\n",
    "    if i % 5000 == 0:\n",
    "        print (i, sess.run(cost))         \n"
   ]
  },
  {
   "cell_type": "code",
   "execution_count": 9,
   "metadata": {
    "collapsed": false
   },
   "outputs": [
    {
     "data": {
      "text/plain": [
       "array([ 0.71484375])"
      ]
     },
     "execution_count": 9,
     "metadata": {},
     "output_type": "execute_result"
    }
   ],
   "source": [
    "def sigmoid(z):\n",
    "    return 1/ (1+np.exp(z))\n",
    "theta = sess.run(W)\n",
    "y_data = y_data.reshape(y_data.shape[0],1)\n",
    "\n",
    "sum((sigmoid(-x_data.T.dot(theta.T))>0.5)==y_data) / y_data.shape[0]"
   ]
  },
  {
   "cell_type": "code",
   "execution_count": null,
   "metadata": {
    "collapsed": true
   },
   "outputs": [],
   "source": []
  }
 ],
 "metadata": {
  "kernelspec": {
   "display_name": "Python 3",
   "language": "python",
   "name": "python3"
  },
  "language_info": {
   "codemirror_mode": {
    "name": "ipython",
    "version": 3
   },
   "file_extension": ".py",
   "mimetype": "text/x-python",
   "name": "python",
   "nbconvert_exporter": "python",
   "pygments_lexer": "ipython3",
   "version": "3.4.5"
  }
 },
 "nbformat": 4,
 "nbformat_minor": 0
}
